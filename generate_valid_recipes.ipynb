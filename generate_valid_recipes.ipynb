{
 "cells": [
  {
   "cell_type": "markdown",
   "metadata": {},
   "source": [
    "## Script pra gerar um ficheiro de receitas apenas com os ingredientes presentes na Flavor Network\n",
    "- Através do ficheiro matching_flavorNetwork_ptDataset comparar a coluna id_pt com a coluna id_flavorNetwork, se a coluna id_flavorNetwork for diferente de '-' juntar o id_pt a uma lista\n",
    "- Através do ficheiro portuguese_dataset para cada receita, juntar o id dos ingredientes presentes a uma lista, se todos os ingredientes presentes nessa lista estiverem na lista de ingredientes encontrados juntar o id da receita a uma outra lista\n",
    "- Por fim gerar um ficheiro csv"
   ]
  },
  {
   "cell_type": "code",
   "execution_count": 4,
   "metadata": {},
   "outputs": [],
   "source": [
    "import pandas as pd\n",
    "import re\n",
    "import csv\n",
    "\n",
    "#csv para dataframe\n",
    "\n",
    "matching_flavorNetwork_ptDataset_df = pd.read_csv(\"matching_flavorNetwork_ptDataset.csv\")\n",
    "portuguese_dataset_df = pd.read_csv(\"portuguese_dataset.csv\")\n",
    "\n",
    "#limpar/apagar colunas/linhas indesejadas\n",
    "#criação dos dataframe originais\n",
    "\n",
    "matching_flavorNetwork_ptDataset_df = matching_flavorNetwork_ptDataset_df.drop(['ing_pt','ing_eng'], axis=1)\n",
    "matching_flavorNetwork_ptDataset_df = matching_flavorNetwork_ptDataset_df[:-3]\n",
    "portuguese_dataset_df = portuguese_dataset_df[:-9]\n",
    "portuguese_dataset_df = portuguese_dataset_df.drop(['RECIPE (Portuguese)','RECIPE (English translation)','REF', 'PAGE'], axis=1)"
   ]
  },
  {
   "cell_type": "code",
   "execution_count": 5,
   "metadata": {},
   "outputs": [],
   "source": [
    "found_ingredients_list = []\n",
    "for i,j in matching_flavorNetwork_ptDataset_df.iterrows():\n",
    "    if j['id_flavorNetwork'] != \"-\":\n",
    "        found_ingredients_list.append(j['id_pt'])"
   ]
  },
  {
   "cell_type": "code",
   "execution_count": 6,
   "metadata": {},
   "outputs": [],
   "source": [
    "row_number = 0\n",
    "valid_recipes = []\n",
    "for row in portuguese_dataset_df.iterrows():\n",
    "    column_number = 0\n",
    "    ingredient_list = []\n",
    "    for column in portuguese_dataset_df.loc[row_number]:\n",
    "        if (column == 1):\n",
    "            ingredient_list.append(re.sub(r'(?<=.{4}).+',\"\",portuguese_dataset_df.columns[column_number]))\n",
    "        column_number += 1\n",
    "    if (all(elem in found_ingredients_list  for elem in ingredient_list)):\n",
    "        valid_recipes.append(portuguese_dataset_df.loc[row_number,'CODE'])\n",
    "    row_number += 1"
   ]
  },
  {
   "cell_type": "code",
   "execution_count": 7,
   "metadata": {},
   "outputs": [],
   "source": [
    "with open('portuguese_dataset.csv', 'r') as inp, open('portuguese_dataset_valid_recipes.csv', 'w') as out:\n",
    "    writer = csv.writer(out)\n",
    "    for row in csv.reader(inp):\n",
    "        if (row[0] in valid_recipes or row[0] == \"CODE\"):\n",
    "            writer.writerow(row)\n",
    "       "
   ]
  }
 ],
 "metadata": {
  "kernelspec": {
   "display_name": "Python 3",
   "language": "python",
   "name": "python3"
  },
  "language_info": {
   "codemirror_mode": {
    "name": "ipython",
    "version": 3
   },
   "file_extension": ".py",
   "mimetype": "text/x-python",
   "name": "python",
   "nbconvert_exporter": "python",
   "pygments_lexer": "ipython3",
   "version": "3.7.3"
  }
 },
 "nbformat": 4,
 "nbformat_minor": 4
}
