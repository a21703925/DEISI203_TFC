{
 "cells": [
  {
   "cell_type": "markdown",
   "metadata": {},
   "source": [
    "## Script para gerar as listas dos sabores partilhados entre os ingredientes de cada receita válida\n",
    "- Listar os ingredientes encontrados através de matching_flavorNetwork_ptDataset\n",
    "- Eliminar da flavorNetwork(ingr_comp) os ingredientes que não fazem parte dessa lista\n",
    "- Para cada um dos ingredientes listar os seus componentes de sabor (compound id) https://stackoverflow.com/questions/22219004/how-to-group-dataframe-rows-into-list-in-pandas-groupby\n",
    "- Para cada um dos ingredientes comparar a sua lista de componenenetes de sabor com a lista dos restantes ingredientes, ver se partilham e contar a ocorrencias\n",
    "- Gerar uma lista para todos os pares de ingredientes e a quantidade de componenetes de sabor que partilham \n",
    "- Gerar uma lista para cada receita com todos os pares de ingredientes e a quantidade de componenetes de sabor que partilham"
   ]
  },
  {
   "cell_type": "code",
   "execution_count": 1,
   "metadata": {},
   "outputs": [],
   "source": [
    "import pandas as pd\n",
    "import itertools\n",
    "import re\n",
    "import numpy as np\n",
    "import igraph as ig\n",
    "from scipy.spatial.distance import squareform\n",
    "from sortedcontainers import SortedDict\n",
    "import math\n",
    "\n",
    "#csv para dataframe\n",
    "#limpar/apagar colunas/linhas indesejadas\n",
    "#criação dos dataframe originais\n",
    "\n",
    "matching_flavorNetwork_ptDataset_df = pd.read_csv(\"matching_flavorNetwork_ptDataset.csv\")\n",
    "matching_flavorNetwork_ptDataset_df = matching_flavorNetwork_ptDataset_df.drop(['ing_pt','ing_eng'], axis=1)\n",
    "matching_flavorNetwork_ptDataset_df = matching_flavorNetwork_ptDataset_df[:-3]\n",
    "flavor_network_ing_comp_df = pd.read_csv('flavor_network - ingr_comp.csv')"
   ]
  },
  {
   "cell_type": "code",
   "execution_count": 2,
   "metadata": {},
   "outputs": [],
   "source": [
    "#colocar numa lista todos os ingredientes encontrados no dataframe matching_flavorNetwork_ptDataset_df\n",
    "\n",
    "found_ingredients_list = []\n",
    "for i,j in matching_flavorNetwork_ptDataset_df.iterrows():\n",
    "    if j['id_flavorNetwork'] != \"-\":\n",
    "        found_ingredients_list.append(int(j['id_flavorNetwork']))"
   ]
  },
  {
   "cell_type": "code",
   "execution_count": 3,
   "metadata": {},
   "outputs": [],
   "source": [
    "#criar um novo dataframe (flavor_network_valid_ing_comp_df) só com os ingredientes encontrados \n",
    "\n",
    "flavor_network_valid_ing_comp_df = pd.DataFrame(columns = ['# ingredient id','compound id'])\n",
    "index = 0\n",
    "for i,j in flavor_network_ing_comp_df.iterrows():\n",
    "    if j['# ingredient id'] in found_ingredients_list:\n",
    "        flavor_network_valid_ing_comp_df.loc[index] = [j['# ingredient id'],j['compound id']]\n",
    "        index += 1        "
   ]
  },
  {
   "cell_type": "code",
   "execution_count": 4,
   "metadata": {},
   "outputs": [],
   "source": [
    "#criar um novo dataframe (flavor_network_valid_ing_list_comp_df) agrupando os ingredientes \n",
    "\n",
    "flavor_network_valid_ing_list_comp_df = flavor_network_valid_ing_comp_df.groupby('# ingredient id')['compound id'].apply(list).reset_index(name='list_comp')"
   ]
  },
  {
   "cell_type": "code",
   "execution_count": 5,
   "metadata": {},
   "outputs": [],
   "source": [
    "#criar um novo dataframe (flavor_network_pairwise_shared_flavors_df) comparando cada ingrediente com os outros todos e contar o número de componenetes de sabor que partilham \n",
    "\n",
    "flavor_network_pairwise_shared_flavors_df = pd.DataFrame(columns = ['ing 1','ing 2','shared_flavors'])\n",
    "index = 0\n",
    "for pair in itertools.combinations(flavor_network_valid_ing_list_comp_df['# ingredient id'], r=2):\n",
    "    list1 = flavor_network_valid_ing_list_comp_df.loc[flavor_network_valid_ing_list_comp_df['# ingredient id'] == pair[0],'list_comp'].item()\n",
    "    list2 = flavor_network_valid_ing_list_comp_df.loc[flavor_network_valid_ing_list_comp_df['# ingredient id'] == pair[1],'list_comp'].item()\n",
    "    num_shared_flavors = len(set(list1).intersection(list2))\n",
    "    flavor_network_pairwise_shared_flavors_df.loc[index] = [pair[0],pair[1],num_shared_flavors]\n",
    "    index += 1"
   ]
  },
  {
   "cell_type": "markdown",
   "metadata": {},
   "source": [
    "# Pipeline de operações para um dada receita"
   ]
  },
  {
   "cell_type": "code",
   "execution_count": 6,
   "metadata": {},
   "outputs": [
    {
     "data": {
      "text/plain": [
       "['I032', 'I105', 'I168', 'I224', 'I264', 'I274', 'I277', 'I292', 'I313']"
      ]
     },
     "execution_count": 6,
     "metadata": {},
     "output_type": "execute_result"
    }
   ],
   "source": [
    "#carregar o csv com as receitas portuguesas\n",
    "#listar os ingredientes para a receita escolhida\n",
    "\n",
    "portuguese_dataset_valid_recipes_df = pd.read_csv(\"portuguese_dataset_valid_recipes.csv\")\n",
    "portuguese_dataset_valid_recipes_df = portuguese_dataset_valid_recipes_df.drop(['RECIPE (Portuguese)','RECIPE (English translation)','REF', 'PAGE'], axis=1)\n",
    "pt_recipe_df = portuguese_dataset_valid_recipes_df.loc[portuguese_dataset_valid_recipes_df['CODE'] == 'RIBA051'].reset_index(drop=True)\n",
    "\n",
    "ingredients_recipe_id_pt_list = []\n",
    "column_number = 0\n",
    "for column in pt_recipe_df.loc[0]:\n",
    "    if (column == 1):\n",
    "        ingredients_recipe_id_pt_list.append(re.sub(r'(?<=.{4}).+',\"\",pt_recipe_df.columns[column_number]))\n",
    "    column_number += 1 \n",
    "ingredients_recipe_id_pt_list"
   ]
  },
  {
   "cell_type": "code",
   "execution_count": 7,
   "metadata": {},
   "outputs": [
    {
     "data": {
      "text/plain": [
       "[998, 1447, 1348, 215, 1113, 848, 105, 878, 1471]"
      ]
     },
     "execution_count": 7,
     "metadata": {},
     "output_type": "execute_result"
    }
   ],
   "source": [
    "#Listar os ingredientes da receita com o id da flavor network\n",
    "\n",
    "ingredients_recipe_id_flavor_network_list = []\n",
    "for ing in ingredients_recipe_id_pt_list:\n",
    "    for i,j in matching_flavorNetwork_ptDataset_df.iterrows():\n",
    "        if(j['id_pt'] == ing):\n",
    "            ingredients_recipe_id_flavor_network_list.append(int(j['id_flavorNetwork']))\n",
    "ingredients_recipe_id_flavor_network_list = list(dict.fromkeys(ingredients_recipe_id_flavor_network_list))\n",
    "ingredients_recipe_id_flavor_network_list"
   ]
  },
  {
   "cell_type": "code",
   "execution_count": 8,
   "metadata": {},
   "outputs": [
    {
     "data": {
      "text/html": [
       "<div>\n",
       "<style scoped>\n",
       "    .dataframe tbody tr th:only-of-type {\n",
       "        vertical-align: middle;\n",
       "    }\n",
       "\n",
       "    .dataframe tbody tr th {\n",
       "        vertical-align: top;\n",
       "    }\n",
       "\n",
       "    .dataframe thead th {\n",
       "        text-align: right;\n",
       "    }\n",
       "</style>\n",
       "<table border=\"1\" class=\"dataframe\">\n",
       "  <thead>\n",
       "    <tr style=\"text-align: right;\">\n",
       "      <th></th>\n",
       "      <th>ing 1</th>\n",
       "      <th>ing 2</th>\n",
       "      <th>shared_flavors</th>\n",
       "    </tr>\n",
       "  </thead>\n",
       "  <tbody>\n",
       "    <tr>\n",
       "      <th>0</th>\n",
       "      <td>998</td>\n",
       "      <td>1447</td>\n",
       "      <td>2</td>\n",
       "    </tr>\n",
       "    <tr>\n",
       "      <th>1</th>\n",
       "      <td>998</td>\n",
       "      <td>1348</td>\n",
       "      <td>0</td>\n",
       "    </tr>\n",
       "    <tr>\n",
       "      <th>2</th>\n",
       "      <td>998</td>\n",
       "      <td>1113</td>\n",
       "      <td>1</td>\n",
       "    </tr>\n",
       "    <tr>\n",
       "      <th>3</th>\n",
       "      <td>998</td>\n",
       "      <td>1471</td>\n",
       "      <td>0</td>\n",
       "    </tr>\n",
       "    <tr>\n",
       "      <th>4</th>\n",
       "      <td>1447</td>\n",
       "      <td>1471</td>\n",
       "      <td>0</td>\n",
       "    </tr>\n",
       "    <tr>\n",
       "      <th>5</th>\n",
       "      <td>1348</td>\n",
       "      <td>1447</td>\n",
       "      <td>13</td>\n",
       "    </tr>\n",
       "    <tr>\n",
       "      <th>6</th>\n",
       "      <td>1348</td>\n",
       "      <td>1471</td>\n",
       "      <td>5</td>\n",
       "    </tr>\n",
       "    <tr>\n",
       "      <th>7</th>\n",
       "      <td>215</td>\n",
       "      <td>998</td>\n",
       "      <td>0</td>\n",
       "    </tr>\n",
       "    <tr>\n",
       "      <th>8</th>\n",
       "      <td>215</td>\n",
       "      <td>1447</td>\n",
       "      <td>0</td>\n",
       "    </tr>\n",
       "    <tr>\n",
       "      <th>9</th>\n",
       "      <td>215</td>\n",
       "      <td>1348</td>\n",
       "      <td>0</td>\n",
       "    </tr>\n",
       "    <tr>\n",
       "      <th>10</th>\n",
       "      <td>215</td>\n",
       "      <td>1113</td>\n",
       "      <td>0</td>\n",
       "    </tr>\n",
       "    <tr>\n",
       "      <th>11</th>\n",
       "      <td>215</td>\n",
       "      <td>848</td>\n",
       "      <td>0</td>\n",
       "    </tr>\n",
       "    <tr>\n",
       "      <th>12</th>\n",
       "      <td>215</td>\n",
       "      <td>878</td>\n",
       "      <td>0</td>\n",
       "    </tr>\n",
       "    <tr>\n",
       "      <th>13</th>\n",
       "      <td>215</td>\n",
       "      <td>1471</td>\n",
       "      <td>1</td>\n",
       "    </tr>\n",
       "    <tr>\n",
       "      <th>14</th>\n",
       "      <td>1113</td>\n",
       "      <td>1447</td>\n",
       "      <td>1</td>\n",
       "    </tr>\n",
       "    <tr>\n",
       "      <th>15</th>\n",
       "      <td>1113</td>\n",
       "      <td>1348</td>\n",
       "      <td>0</td>\n",
       "    </tr>\n",
       "    <tr>\n",
       "      <th>16</th>\n",
       "      <td>1113</td>\n",
       "      <td>1471</td>\n",
       "      <td>0</td>\n",
       "    </tr>\n",
       "    <tr>\n",
       "      <th>17</th>\n",
       "      <td>848</td>\n",
       "      <td>998</td>\n",
       "      <td>0</td>\n",
       "    </tr>\n",
       "    <tr>\n",
       "      <th>18</th>\n",
       "      <td>848</td>\n",
       "      <td>1447</td>\n",
       "      <td>13</td>\n",
       "    </tr>\n",
       "    <tr>\n",
       "      <th>19</th>\n",
       "      <td>848</td>\n",
       "      <td>1348</td>\n",
       "      <td>20</td>\n",
       "    </tr>\n",
       "    <tr>\n",
       "      <th>20</th>\n",
       "      <td>848</td>\n",
       "      <td>1113</td>\n",
       "      <td>0</td>\n",
       "    </tr>\n",
       "    <tr>\n",
       "      <th>21</th>\n",
       "      <td>848</td>\n",
       "      <td>878</td>\n",
       "      <td>15</td>\n",
       "    </tr>\n",
       "    <tr>\n",
       "      <th>22</th>\n",
       "      <td>848</td>\n",
       "      <td>1471</td>\n",
       "      <td>0</td>\n",
       "    </tr>\n",
       "    <tr>\n",
       "      <th>23</th>\n",
       "      <td>105</td>\n",
       "      <td>998</td>\n",
       "      <td>1</td>\n",
       "    </tr>\n",
       "    <tr>\n",
       "      <th>24</th>\n",
       "      <td>105</td>\n",
       "      <td>1447</td>\n",
       "      <td>10</td>\n",
       "    </tr>\n",
       "    <tr>\n",
       "      <th>25</th>\n",
       "      <td>105</td>\n",
       "      <td>1348</td>\n",
       "      <td>26</td>\n",
       "    </tr>\n",
       "    <tr>\n",
       "      <th>26</th>\n",
       "      <td>105</td>\n",
       "      <td>215</td>\n",
       "      <td>0</td>\n",
       "    </tr>\n",
       "    <tr>\n",
       "      <th>27</th>\n",
       "      <td>105</td>\n",
       "      <td>1113</td>\n",
       "      <td>0</td>\n",
       "    </tr>\n",
       "    <tr>\n",
       "      <th>28</th>\n",
       "      <td>105</td>\n",
       "      <td>848</td>\n",
       "      <td>15</td>\n",
       "    </tr>\n",
       "    <tr>\n",
       "      <th>29</th>\n",
       "      <td>105</td>\n",
       "      <td>878</td>\n",
       "      <td>22</td>\n",
       "    </tr>\n",
       "    <tr>\n",
       "      <th>30</th>\n",
       "      <td>105</td>\n",
       "      <td>1471</td>\n",
       "      <td>1</td>\n",
       "    </tr>\n",
       "    <tr>\n",
       "      <th>31</th>\n",
       "      <td>878</td>\n",
       "      <td>998</td>\n",
       "      <td>0</td>\n",
       "    </tr>\n",
       "    <tr>\n",
       "      <th>32</th>\n",
       "      <td>878</td>\n",
       "      <td>1447</td>\n",
       "      <td>11</td>\n",
       "    </tr>\n",
       "    <tr>\n",
       "      <th>33</th>\n",
       "      <td>878</td>\n",
       "      <td>1348</td>\n",
       "      <td>25</td>\n",
       "    </tr>\n",
       "    <tr>\n",
       "      <th>34</th>\n",
       "      <td>878</td>\n",
       "      <td>1113</td>\n",
       "      <td>0</td>\n",
       "    </tr>\n",
       "    <tr>\n",
       "      <th>35</th>\n",
       "      <td>878</td>\n",
       "      <td>1471</td>\n",
       "      <td>1</td>\n",
       "    </tr>\n",
       "  </tbody>\n",
       "</table>\n",
       "</div>"
      ],
      "text/plain": [
       "   ing 1 ing 2 shared_flavors\n",
       "0    998  1447              2\n",
       "1    998  1348              0\n",
       "2    998  1113              1\n",
       "3    998  1471              0\n",
       "4   1447  1471              0\n",
       "5   1348  1447             13\n",
       "6   1348  1471              5\n",
       "7    215   998              0\n",
       "8    215  1447              0\n",
       "9    215  1348              0\n",
       "10   215  1113              0\n",
       "11   215   848              0\n",
       "12   215   878              0\n",
       "13   215  1471              1\n",
       "14  1113  1447              1\n",
       "15  1113  1348              0\n",
       "16  1113  1471              0\n",
       "17   848   998              0\n",
       "18   848  1447             13\n",
       "19   848  1348             20\n",
       "20   848  1113              0\n",
       "21   848   878             15\n",
       "22   848  1471              0\n",
       "23   105   998              1\n",
       "24   105  1447             10\n",
       "25   105  1348             26\n",
       "26   105   215              0\n",
       "27   105  1113              0\n",
       "28   105   848             15\n",
       "29   105   878             22\n",
       "30   105  1471              1\n",
       "31   878   998              0\n",
       "32   878  1447             11\n",
       "33   878  1348             25\n",
       "34   878  1113              0\n",
       "35   878  1471              1"
      ]
     },
     "execution_count": 8,
     "metadata": {},
     "output_type": "execute_result"
    }
   ],
   "source": [
    "#criar um dataframe para a receita com todos os pares de ingredientes e o número de componentes de sabor que partilham \n",
    "#criar um dataframe em forma de matriz\n",
    "\n",
    "appended_data = []\n",
    "D_pair_value = SortedDict()\n",
    "recipe_df = pd.DataFrame(columns = ['ing 1','ing 2','shared_flavors'])\n",
    "for pair in itertools.permutations(ingredients_recipe_id_flavor_network_list, r=2):\n",
    "    data = flavor_network_pairwise_shared_flavors_df.loc[(flavor_network_pairwise_shared_flavors_df['ing 1'] == pair[0]) & (flavor_network_pairwise_shared_flavors_df['ing 2'] == pair[1])]\n",
    "    appended_data.append(data)\n",
    "    if (data['shared_flavors'].size):\n",
    "        D_pair_value[pair] = data['shared_flavors'].values.item()\n",
    "    \n",
    "recipe_df = pd.concat(appended_data,ignore_index=True)\n",
    "recipe_sorted_matrix_df = pd.DataFrame(squareform(D_pair_value.values()), index=ingredients_recipe_id_flavor_network_list, columns=ingredients_recipe_id_flavor_network_list)\n",
    "recipe_df"
   ]
  },
  {
   "cell_type": "markdown",
   "metadata": {},
   "source": [
    "## Script para calcular o food-pairing\n",
    "- Passar o dataframe anteriror (recipe_sorted_matrix_df) para uma matriz numpy\n",
    "- Média da matriz (só com valores > 0)\n",
    "- Normalizar a matriz\n",
    "- Aplicar a forma 1/x - 1 (incluindo os zeros)"
   ]
  },
  {
   "cell_type": "code",
   "execution_count": 9,
   "metadata": {},
   "outputs": [
    {
     "data": {
      "text/plain": [
       "array([[nan, nan, 15., 22.,  1., nan, 26., 10.,  1.],\n",
       "       [nan, nan, nan, nan, nan, nan, nan, nan,  1.],\n",
       "       [15., nan, nan, 15., nan, nan, 20., 13., nan],\n",
       "       [22., nan, 15., nan, nan, nan, 25., 11.,  1.],\n",
       "       [ 1., nan, nan, nan, nan,  1., nan,  2., nan],\n",
       "       [nan, nan, nan, nan,  1., nan, nan,  1., nan],\n",
       "       [26., nan, 20., 25., nan, nan, nan, 13.,  5.],\n",
       "       [10., nan, 13., 11.,  2.,  1., 13., nan, nan],\n",
       "       [ 1.,  1., nan,  1., nan, nan,  5., nan, nan]])"
      ]
     },
     "execution_count": 9,
     "metadata": {},
     "output_type": "execute_result"
    }
   ],
   "source": [
    "recipe_np = recipe_sorted_matrix_df.to_numpy()\n",
    "recipe_nan_np = recipe_np.astype('float')\n",
    "recipe_nan_np[recipe_np == 0] = 'nan'\n",
    "recipe_nan_np"
   ]
  },
  {
   "cell_type": "code",
   "execution_count": 10,
   "metadata": {},
   "outputs": [
    {
     "data": {
      "text/plain": [
       "10.166666666666666"
      ]
     },
     "execution_count": 10,
     "metadata": {},
     "output_type": "execute_result"
    }
   ],
   "source": [
    "#food_pairing = np.nanmean(np.where(recipe_np!=0,recipe_np,np.nan))\n",
    "#food_pairing\n",
    "\n",
    "food_pairing = np.nanmean(recipe_nan_np)\n",
    "if (math.isnan(food_pairing)):\n",
    "    food_pairing = 0\n",
    "food_pairing"
   ]
  },
  {
   "cell_type": "markdown",
   "metadata": {},
   "source": [
    "## Script para calcular o food-bridging\n",
    "- Normalizar os valores da matriz entre [0,1]\n",
    "- Aplicar a fórmula 1/x -1, converte o grafo(matriz) num espaço de distância\n",
    "- Aplicar Floyd-Warshall\n",
    "- Dividir a matriz original pela matriz resultante da aplicação do Floyd-Warshall\n",
    "- Substituir os nan por zero\n",
    "- Calcular o número de valores da matriz (> 1 e < infinito)\n",
    "- Calcular o número de valores da matriz (> 0 e < infinito)\n",
    "- Dividir esses dois valores e o resultado é o valor de food-bridging\n",
    "- https://docs.scipy.org/doc/scipy/reference/generated/scipy.sparse.csgraph.floyd_warshall.html"
   ]
  },
  {
   "cell_type": "code",
   "execution_count": 11,
   "metadata": {},
   "outputs": [
    {
     "data": {
      "text/plain": [
       "array([[   nan,    nan, 0.5588, 0.8332, 0.01  ,    nan, 0.99  , 0.3628,\n",
       "        0.01  ],\n",
       "       [   nan,    nan,    nan,    nan,    nan,    nan,    nan,    nan,\n",
       "        0.01  ],\n",
       "       [0.5588,    nan,    nan, 0.5588,    nan,    nan, 0.7548, 0.4804,\n",
       "           nan],\n",
       "       [0.8332,    nan, 0.5588,    nan,    nan,    nan, 0.9508, 0.402 ,\n",
       "        0.01  ],\n",
       "       [0.01  ,    nan,    nan,    nan,    nan, 0.01  ,    nan, 0.0492,\n",
       "           nan],\n",
       "       [   nan,    nan,    nan,    nan, 0.01  ,    nan,    nan, 0.01  ,\n",
       "           nan],\n",
       "       [0.99  ,    nan, 0.7548, 0.9508,    nan,    nan,    nan, 0.4804,\n",
       "        0.1668],\n",
       "       [0.3628,    nan, 0.4804, 0.402 , 0.0492, 0.01  , 0.4804,    nan,\n",
       "           nan],\n",
       "       [0.01  , 0.01  ,    nan, 0.01  ,    nan,    nan, 0.1668,    nan,\n",
       "           nan]])"
      ]
     },
     "execution_count": 11,
     "metadata": {},
     "output_type": "execute_result"
    }
   ],
   "source": [
    "minval = np.nanmin(recipe_nan_np)\n",
    "maxval = np.nanmax(recipe_nan_np)\n",
    "recipe_normalized_nan_np = (((1-2*0.01)*recipe_nan_np + (2*0.01-1)*minval)/(maxval-minval))+0.01\n",
    "recipe_normalized_nan_np"
   ]
  },
  {
   "cell_type": "code",
   "execution_count": 12,
   "metadata": {},
   "outputs": [
    {
     "name": "stderr",
     "output_type": "stream",
     "text": [
      "/home/ricardo/anaconda3/lib/python3.7/site-packages/ipykernel_launcher.py:2: RuntimeWarning: divide by zero encountered in true_divide\n",
      "  \n"
     ]
    },
    {
     "data": {
      "text/plain": [
       "array([[           inf,            inf, 7.89549034e-01, 2.00192031e-01,\n",
       "        9.90000000e+01,            inf, 1.01010101e-02, 1.75633958e+00,\n",
       "        9.90000000e+01],\n",
       "       [           inf,            inf,            inf,            inf,\n",
       "                   inf,            inf,            inf,            inf,\n",
       "        9.90000000e+01],\n",
       "       [7.89549034e-01,            inf,            inf, 7.89549034e-01,\n",
       "                   inf,            inf, 3.24854266e-01, 1.08159867e+00,\n",
       "                   inf],\n",
       "       [2.00192031e-01,            inf, 7.89549034e-01,            inf,\n",
       "                   inf,            inf, 5.17458982e-02, 1.48756219e+00,\n",
       "        9.90000000e+01],\n",
       "       [9.90000000e+01,            inf,            inf,            inf,\n",
       "                   inf, 9.90000000e+01,            inf, 1.93252033e+01,\n",
       "                   inf],\n",
       "       [           inf,            inf,            inf,            inf,\n",
       "        9.90000000e+01,            inf,            inf, 9.90000000e+01,\n",
       "                   inf],\n",
       "       [1.01010101e-02,            inf, 3.24854266e-01, 5.17458982e-02,\n",
       "                   inf,            inf,            inf, 1.08159867e+00,\n",
       "        4.99520384e+00],\n",
       "       [1.75633958e+00,            inf, 1.08159867e+00, 1.48756219e+00,\n",
       "        1.93252033e+01, 9.90000000e+01, 1.08159867e+00,            inf,\n",
       "                   inf],\n",
       "       [9.90000000e+01, 9.90000000e+01,            inf, 9.90000000e+01,\n",
       "                   inf,            inf, 4.99520384e+00,            inf,\n",
       "                   inf]])"
      ]
     },
     "execution_count": 12,
     "metadata": {},
     "output_type": "execute_result"
    }
   ],
   "source": [
    "recipe_normalized_np = np.nan_to_num(recipe_normalized_nan_np)\n",
    "recipe_normalized_form_np = (1/recipe_normalized_np) - 1\n",
    "recipe_normalized_form_np"
   ]
  },
  {
   "cell_type": "code",
   "execution_count": 13,
   "metadata": {},
   "outputs": [],
   "source": [
    "#Passar das proximidades a distancias\n",
    "def prox2dist(P,k):\n",
    "    D = np.power(1.0/P-1.0,k)\n",
    "    return D\n",
    "\n",
    "#Passar de distancias para proximidade\n",
    "def dist2prox(D,k):\n",
    "    P = 1.0/(np.power(D,1.0/k)+1.0)\n",
    "    return P\n",
    "\n",
    "#Tranformar um grafo numa matriz numpy\n",
    "def graph2matrix(g):\n",
    "    n = g.vcount()\n",
    "    adj = np.zeros((n, n))\n",
    "    rows, cols = zip(*g.get_edgelist())\n",
    "    for r in rows:\n",
    "        for c in cols:\n",
    "            adj[r, c] = edgevalue(g,r,c)\n",
    "    return adj\n",
    "\n",
    "#Transformar uma matriz (numpy array) para um grafo\n",
    "def matrix2graph(adj):\n",
    "    g=ig.Graph.Weighted_Adjacency(np.ndarray.tolist(adj))\n",
    "    return g\n",
    "\n",
    "#Calcular o dijkstra, ou seja, o all pairs shortest paths num numpy array D no espaço das distancias\n",
    "def all_pairs_sp(D):\n",
    "    g = matrix2graph(D)\n",
    "    DC = g.shortest_paths_dijkstra(weights=g.es['weight'], mode='OUT')\n",
    "    DC = np.asarray(DC)\n",
    "    return DC\n",
    "\n"
   ]
  },
  {
   "cell_type": "code",
   "execution_count": 14,
   "metadata": {},
   "outputs": [
    {
     "data": {
      "text/plain": [
       "0.4444444444444444"
      ]
     },
     "execution_count": 14,
     "metadata": {},
     "output_type": "execute_result"
    }
   ],
   "source": [
    "A = recipe_normalized_form_np\n",
    "DC = all_pairs_sp(A)\n",
    "s = np.divide(A,DC)\n",
    "s[np.isnan(s)] = 0\n",
    "s1 = s[(s > 1) & (s < float('inf'))]\n",
    "s2 = s[(s > 0) & (s < float('inf'))]\n",
    "try:\n",
    "    SMP = s1.size/s2.size\n",
    "except ZeroDivisionError:\n",
    "    SMP = 0\n",
    "SMP"
   ]
  },
  {
   "cell_type": "code",
   "execution_count": null,
   "metadata": {},
   "outputs": [],
   "source": []
  }
 ],
 "metadata": {
  "kernelspec": {
   "display_name": "Python 3",
   "language": "python",
   "name": "python3"
  },
  "language_info": {
   "codemirror_mode": {
    "name": "ipython",
    "version": 3
   },
   "file_extension": ".py",
   "mimetype": "text/x-python",
   "name": "python",
   "nbconvert_exporter": "python",
   "pygments_lexer": "ipython3",
   "version": "3.7.3"
  }
 },
 "nbformat": 4,
 "nbformat_minor": 4
}
